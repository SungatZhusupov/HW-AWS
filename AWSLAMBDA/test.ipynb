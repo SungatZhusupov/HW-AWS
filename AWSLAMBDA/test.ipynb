{
 "cells": [
  {
   "cell_type": "code",
   "execution_count": 12,
   "metadata": {},
   "outputs": [],
   "source": [
    "import requests"
   ]
  },
  {
   "cell_type": "code",
   "execution_count": 13,
   "metadata": {},
   "outputs": [
    {
     "name": "stdout",
     "output_type": "stream",
     "text": [
      "Requirement already satisfied: requests in c:\\users\\sungat\\appdata\\local\\anaconda3\\envs\\aws\\lib\\site-packages (2.31.0)\n",
      "Requirement already satisfied: charset-normalizer<4,>=2 in c:\\users\\sungat\\appdata\\local\\anaconda3\\envs\\aws\\lib\\site-packages (from requests) (3.3.2)\n",
      "Requirement already satisfied: idna<4,>=2.5 in c:\\users\\sungat\\appdata\\local\\anaconda3\\envs\\aws\\lib\\site-packages (from requests) (3.7)\n",
      "Requirement already satisfied: urllib3<3,>=1.21.1 in c:\\users\\sungat\\appdata\\local\\anaconda3\\envs\\aws\\lib\\site-packages (from requests) (2.2.1)\n",
      "Requirement already satisfied: certifi>=2017.4.17 in c:\\users\\sungat\\appdata\\local\\anaconda3\\envs\\aws\\lib\\site-packages (from requests) (2024.2.2)\n"
     ]
    }
   ],
   "source": [
    "!pip install requests"
   ]
  },
  {
   "cell_type": "code",
   "execution_count": 21,
   "metadata": {},
   "outputs": [
    {
     "name": "stdout",
     "output_type": "stream",
     "text": [
      "{'StatusCode': 200, 'body': \"{'dino': 0.95992386}\"}\n"
     ]
    }
   ],
   "source": [
    "url = \"http://localhost:8080/2015-03-31/functions/function/invocations\"\n",
    "\n",
    "data = {\n",
    "    \"url\" : \"https://medvestnik.by/images/audio/fDwAUAcH9i4.webp\",\n",
    "}\n",
    "\n",
    "result = requests.post(url, json=data)\n",
    "\n",
    "print(result.json())"
   ]
  }
 ],
 "metadata": {
  "kernelspec": {
   "display_name": "awslambda",
   "language": "python",
   "name": "python3"
  },
  "language_info": {
   "codemirror_mode": {
    "name": "ipython",
    "version": 3
   },
   "file_extension": ".py",
   "mimetype": "text/x-python",
   "name": "python",
   "nbconvert_exporter": "python",
   "pygments_lexer": "ipython3",
   "version": "3.9.19"
  }
 },
 "nbformat": 4,
 "nbformat_minor": 2
}
